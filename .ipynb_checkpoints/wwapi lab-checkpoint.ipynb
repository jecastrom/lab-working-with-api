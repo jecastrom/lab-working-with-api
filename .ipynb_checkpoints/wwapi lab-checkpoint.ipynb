{
 "cells": [
  {
   "cell_type": "markdown",
   "id": "a45ddf94-e6f3-48b7-a2ec-3f29ae1cd9ec",
   "metadata": {},
   "source": [
    "Jorge Castro DAPT NOV 2021"
   ]
  },
  {
   "cell_type": "markdown",
   "id": "8e5ee330-75c1-4915-b53e-e5d8fde021f9",
   "metadata": {},
   "source": [
    "# Lab | Working with APIs\n",
    "\n",
    "#### Instructions \n",
    "\n",
    "Following the class example, create a function that returns the price, names of origin and arrival airports and the name of the company. Do it for all the flights between two dates that cost the same."
   ]
  },
  {
   "cell_type": "code",
   "execution_count": 149,
   "id": "9da2b412-be70-4a8b-b306-3e20efc8a0ef",
   "metadata": {},
   "outputs": [],
   "source": [
    "import requests\n",
    "import getpass"
   ]
  },
  {
   "cell_type": "markdown",
   "id": "44f358c7-be17-4738-93f5-1929cc636159",
   "metadata": {},
   "source": [
    "## Lab solution"
   ]
  },
  {
   "cell_type": "code",
   "execution_count": 150,
   "id": "5963c87c-2f7b-4b7b-9461-0c1cff45e0e1",
   "metadata": {},
   "outputs": [],
   "source": [
    "import requests\n",
    "# Stablishing the API Call\n",
    "url = \"https://travelpayouts-travelpayouts-flight-data-v1.p.rapidapi.com/v1/prices/calendar\"\n",
    "\n",
    "querystring = {\"calendar_type\":\"departure_date\",\"destination\":\"PMI\",\"origin\":\"BER\",\"depart_date\":\"2022-06-01\",\"currency\":\"EUR\"}\n",
    "\n",
    "headers = {\n",
    "\t\"X-Access-Token\": token,\n",
    "\t\"X-RapidAPI-Host\": \"travelpayouts-travelpayouts-flight-data-v1.p.rapidapi.com\",\n",
    "\t\"X-RapidAPI-Key\": key\n",
    "}\n",
    "\n",
    "# Storing the response on a variable called \"response\"\n",
    "response = requests.request(\"GET\", url, headers=headers, params=querystring)\n",
    "\n"
   ]
  },
  {
   "cell_type": "code",
   "execution_count": null,
   "id": "433a1b0f-ca0a-4859-b3a5-7d8ebf7673ef",
   "metadata": {},
   "outputs": [],
   "source": []
  },
  {
   "cell_type": "code",
   "execution_count": null,
   "id": "3c8351b4-a5fa-4daa-ac34-87a11dc6e0ee",
   "metadata": {},
   "outputs": [],
   "source": []
  },
  {
   "cell_type": "code",
   "execution_count": null,
   "id": "e72acd8e-161f-46ed-aba5-99afe6c764e6",
   "metadata": {},
   "outputs": [],
   "source": []
  },
  {
   "cell_type": "code",
   "execution_count": 151,
   "id": "bcc539a6-f6ad-4e66-8aee-ecc8dc33c558",
   "metadata": {},
   "outputs": [],
   "source": [
    "# Creating a list with the main keys of our json data, in this case are the dates\n",
    "dates_of_flights = list(response.json()['data'].keys())"
   ]
  },
  {
   "cell_type": "code",
   "execution_count": 152,
   "id": "dfdb613b-6a0c-44ae-a4b3-ed08ffac0039",
   "metadata": {},
   "outputs": [
    {
     "data": {
      "text/plain": [
       "dict_keys(['2022-05-01', '2022-05-02', '2022-05-03', '2022-05-04', '2022-05-05', '2022-05-06', '2022-05-07', '2022-05-08', '2022-05-09', '2022-05-10', '2022-05-11', '2022-05-13', '2022-05-16', '2022-05-18', '2022-05-25', '2022-05-26', '2022-05-27', '2022-05-28', '2022-06-02', '2022-06-03', '2022-06-06', '2022-06-07', '2022-06-09', '2022-06-10', '2022-06-11', '2022-06-13', '2022-06-23', '2022-06-30', '2022-07-01', '2022-07-02', '2022-07-05', '2022-07-12', '2022-07-21', '2022-07-22', '2022-07-29', '2022-08-14', '2022-09-03', '2022-09-06', '2022-09-11'])"
      ]
     },
     "execution_count": 152,
     "metadata": {},
     "output_type": "execute_result"
    }
   ],
   "source": [
    "response.json()['data'].keys()"
   ]
  },
  {
   "cell_type": "code",
   "execution_count": 153,
   "id": "10986455-e87e-452a-b049-2502a4cf091b",
   "metadata": {},
   "outputs": [],
   "source": [
    "# Here we store those keys as a list\n",
    "dates_of_flights = list(response.json()['data'].keys())"
   ]
  },
  {
   "cell_type": "code",
   "execution_count": 154,
   "id": "e9a9efa8-1334-43ba-bc10-70a6cd844fd3",
   "metadata": {},
   "outputs": [],
   "source": [
    "#dates_of_flights"
   ]
  },
  {
   "cell_type": "code",
   "execution_count": 155,
   "id": "f7c876b3-4526-4f2b-abed-758444b5a514",
   "metadata": {},
   "outputs": [
    {
     "data": {
      "text/plain": [
       "'2022-05-01'"
      ]
     },
     "execution_count": 155,
     "metadata": {},
     "output_type": "execute_result"
    }
   ],
   "source": [
    "# Now we can access each element of the list by slising\n",
    "dates_of_flights[0]"
   ]
  },
  {
   "cell_type": "code",
   "execution_count": 156,
   "id": "be3f370f-ed4d-4aef-9852-47e28ba912ba",
   "metadata": {},
   "outputs": [
    {
     "data": {
      "text/plain": [
       "{'origin': 'BER',\n",
       " 'destination': 'PMI',\n",
       " 'price': 86,\n",
       " 'airline': 'EW',\n",
       " 'flight_number': 6893,\n",
       " 'departure_at': '2022-05-01T18:35:00+02:00',\n",
       " 'return_at': '2022-05-06T07:45:00+02:00',\n",
       " 'transfers': 0,\n",
       " 'expires_at': '2022-05-02T19:38:01Z'}"
      ]
     },
     "execution_count": 156,
     "metadata": {},
     "output_type": "execute_result"
    }
   ],
   "source": [
    "# with the list of keys, which are our dates, we can manipulate the raw data of the response by slising\n",
    "response.json()['data'][dates_of_flights[0]]"
   ]
  },
  {
   "cell_type": "code",
   "execution_count": 157,
   "id": "2191d154-47b3-48a6-9a86-ecec068c121a",
   "metadata": {},
   "outputs": [
    {
     "data": {
      "text/plain": [
       "'BER'"
      ]
     },
     "execution_count": 157,
     "metadata": {},
     "output_type": "execute_result"
    }
   ],
   "source": [
    "response.json()['data'][dates_of_flights[0]]['origin']"
   ]
  },
  {
   "cell_type": "code",
   "execution_count": 158,
   "id": "06a74057-852a-4647-a37c-636cd6a44b23",
   "metadata": {},
   "outputs": [],
   "source": [
    "# creating an empty DataFrame\n",
    "flights = pd.DataFrame()"
   ]
  },
  {
   "cell_type": "code",
   "execution_count": 159,
   "id": "7911848b-87b9-4f86-b9db-77b048afa3f8",
   "metadata": {},
   "outputs": [
    {
     "data": {
      "text/html": [
       "<div>\n",
       "<style scoped>\n",
       "    .dataframe tbody tr th:only-of-type {\n",
       "        vertical-align: middle;\n",
       "    }\n",
       "\n",
       "    .dataframe tbody tr th {\n",
       "        vertical-align: top;\n",
       "    }\n",
       "\n",
       "    .dataframe thead th {\n",
       "        text-align: right;\n",
       "    }\n",
       "</style>\n",
       "<table border=\"1\" class=\"dataframe\">\n",
       "  <thead>\n",
       "    <tr style=\"text-align: right;\">\n",
       "      <th></th>\n",
       "    </tr>\n",
       "  </thead>\n",
       "  <tbody>\n",
       "  </tbody>\n",
       "</table>\n",
       "</div>"
      ],
      "text/plain": [
       "Empty DataFrame\n",
       "Columns: []\n",
       "Index: []"
      ]
     },
     "execution_count": 159,
     "metadata": {},
     "output_type": "execute_result"
    }
   ],
   "source": [
    "flights"
   ]
  },
  {
   "cell_type": "code",
   "execution_count": 160,
   "id": "b8af795d-20d6-40f5-a16b-07b04836c31a",
   "metadata": {},
   "outputs": [],
   "source": [
    "# Populating our dataframe with the json data looping through it\n",
    "for i in range(len(dates_of_flights)):\n",
    "   \n",
    "    \n",
    "    flights = flights.append(pd.json_normalize(response.json()['data'][dates_of_flights[i]]))\n",
    "    \n",
    "    \n",
    "#return flights"
   ]
  },
  {
   "cell_type": "code",
   "execution_count": 161,
   "id": "6f47e7d5-df35-4703-b148-99dcda442a2b",
   "metadata": {},
   "outputs": [],
   "source": [
    "flights = flights.drop(['flight_number', 'departure_at', 'return_at', 'transfers', 'expires_at'], axis = 1)"
   ]
  },
  {
   "cell_type": "code",
   "execution_count": 138,
   "id": "b05d4e44-3f2b-47d6-a4d7-6658c82e0bdc",
   "metadata": {},
   "outputs": [],
   "source": [
    "#flights"
   ]
  },
  {
   "cell_type": "code",
   "execution_count": 164,
   "id": "f9297220-1ee5-4406-a91d-8ed88c55b270",
   "metadata": {},
   "outputs": [],
   "source": [
    "idx = 0"
   ]
  },
  {
   "cell_type": "code",
   "execution_count": 165,
   "id": "935fb104-80b7-4d4b-b10a-4f91a6c7a083",
   "metadata": {},
   "outputs": [],
   "source": [
    "flights.insert(loc=idx, column='date', value=dates_of_flights)"
   ]
  },
  {
   "cell_type": "code",
   "execution_count": 167,
   "id": "b2771568-6ec1-4beb-8d67-f0bd650db1a3",
   "metadata": {},
   "outputs": [],
   "source": [
    "flights = flights.reset_index(drop=True)"
   ]
  },
  {
   "cell_type": "code",
   "execution_count": 168,
   "id": "9307ee25-2015-44bd-b141-7c24a9e91566",
   "metadata": {},
   "outputs": [
    {
     "data": {
      "text/html": [
       "<div>\n",
       "<style scoped>\n",
       "    .dataframe tbody tr th:only-of-type {\n",
       "        vertical-align: middle;\n",
       "    }\n",
       "\n",
       "    .dataframe tbody tr th {\n",
       "        vertical-align: top;\n",
       "    }\n",
       "\n",
       "    .dataframe thead th {\n",
       "        text-align: right;\n",
       "    }\n",
       "</style>\n",
       "<table border=\"1\" class=\"dataframe\">\n",
       "  <thead>\n",
       "    <tr style=\"text-align: right;\">\n",
       "      <th></th>\n",
       "      <th>date</th>\n",
       "      <th>origin</th>\n",
       "      <th>destination</th>\n",
       "      <th>price</th>\n",
       "      <th>airline</th>\n",
       "    </tr>\n",
       "  </thead>\n",
       "  <tbody>\n",
       "    <tr>\n",
       "      <th>0</th>\n",
       "      <td>2022-05-01</td>\n",
       "      <td>BER</td>\n",
       "      <td>PMI</td>\n",
       "      <td>86</td>\n",
       "      <td>EW</td>\n",
       "    </tr>\n",
       "    <tr>\n",
       "      <th>1</th>\n",
       "      <td>2022-05-02</td>\n",
       "      <td>BER</td>\n",
       "      <td>PMI</td>\n",
       "      <td>95</td>\n",
       "      <td>U2</td>\n",
       "    </tr>\n",
       "    <tr>\n",
       "      <th>2</th>\n",
       "      <td>2022-05-03</td>\n",
       "      <td>BER</td>\n",
       "      <td>PMI</td>\n",
       "      <td>39</td>\n",
       "      <td>FR</td>\n",
       "    </tr>\n",
       "    <tr>\n",
       "      <th>3</th>\n",
       "      <td>2022-05-04</td>\n",
       "      <td>BER</td>\n",
       "      <td>PMI</td>\n",
       "      <td>43</td>\n",
       "      <td>FR</td>\n",
       "    </tr>\n",
       "    <tr>\n",
       "      <th>4</th>\n",
       "      <td>2022-05-05</td>\n",
       "      <td>BER</td>\n",
       "      <td>PMI</td>\n",
       "      <td>82</td>\n",
       "      <td>FR</td>\n",
       "    </tr>\n",
       "    <tr>\n",
       "      <th>5</th>\n",
       "      <td>2022-05-06</td>\n",
       "      <td>BER</td>\n",
       "      <td>PMI</td>\n",
       "      <td>84</td>\n",
       "      <td>FR</td>\n",
       "    </tr>\n",
       "    <tr>\n",
       "      <th>6</th>\n",
       "      <td>2022-05-07</td>\n",
       "      <td>BER</td>\n",
       "      <td>PMI</td>\n",
       "      <td>45</td>\n",
       "      <td>FR</td>\n",
       "    </tr>\n",
       "    <tr>\n",
       "      <th>7</th>\n",
       "      <td>2022-05-08</td>\n",
       "      <td>BER</td>\n",
       "      <td>PMI</td>\n",
       "      <td>90</td>\n",
       "      <td>FR</td>\n",
       "    </tr>\n",
       "    <tr>\n",
       "      <th>8</th>\n",
       "      <td>2022-05-09</td>\n",
       "      <td>BER</td>\n",
       "      <td>PMI</td>\n",
       "      <td>38</td>\n",
       "      <td>FR</td>\n",
       "    </tr>\n",
       "    <tr>\n",
       "      <th>9</th>\n",
       "      <td>2022-05-10</td>\n",
       "      <td>BER</td>\n",
       "      <td>PMI</td>\n",
       "      <td>49</td>\n",
       "      <td>FR</td>\n",
       "    </tr>\n",
       "    <tr>\n",
       "      <th>10</th>\n",
       "      <td>2022-05-11</td>\n",
       "      <td>BER</td>\n",
       "      <td>PMI</td>\n",
       "      <td>149</td>\n",
       "      <td>FR</td>\n",
       "    </tr>\n",
       "    <tr>\n",
       "      <th>11</th>\n",
       "      <td>2022-05-13</td>\n",
       "      <td>BER</td>\n",
       "      <td>PMI</td>\n",
       "      <td>118</td>\n",
       "      <td>FR</td>\n",
       "    </tr>\n",
       "    <tr>\n",
       "      <th>12</th>\n",
       "      <td>2022-05-16</td>\n",
       "      <td>BER</td>\n",
       "      <td>PMI</td>\n",
       "      <td>47</td>\n",
       "      <td>FR</td>\n",
       "    </tr>\n",
       "    <tr>\n",
       "      <th>13</th>\n",
       "      <td>2022-05-18</td>\n",
       "      <td>BER</td>\n",
       "      <td>PMI</td>\n",
       "      <td>50</td>\n",
       "      <td>FR</td>\n",
       "    </tr>\n",
       "    <tr>\n",
       "      <th>14</th>\n",
       "      <td>2022-05-25</td>\n",
       "      <td>BER</td>\n",
       "      <td>PMI</td>\n",
       "      <td>161</td>\n",
       "      <td>AL</td>\n",
       "    </tr>\n",
       "    <tr>\n",
       "      <th>15</th>\n",
       "      <td>2022-05-26</td>\n",
       "      <td>BER</td>\n",
       "      <td>PMI</td>\n",
       "      <td>93</td>\n",
       "      <td>AL</td>\n",
       "    </tr>\n",
       "    <tr>\n",
       "      <th>16</th>\n",
       "      <td>2022-05-27</td>\n",
       "      <td>BER</td>\n",
       "      <td>PMI</td>\n",
       "      <td>155</td>\n",
       "      <td>FR</td>\n",
       "    </tr>\n",
       "    <tr>\n",
       "      <th>17</th>\n",
       "      <td>2022-05-28</td>\n",
       "      <td>BER</td>\n",
       "      <td>PMI</td>\n",
       "      <td>91</td>\n",
       "      <td>FR</td>\n",
       "    </tr>\n",
       "    <tr>\n",
       "      <th>18</th>\n",
       "      <td>2022-06-02</td>\n",
       "      <td>BER</td>\n",
       "      <td>PMI</td>\n",
       "      <td>144</td>\n",
       "      <td>FR</td>\n",
       "    </tr>\n",
       "    <tr>\n",
       "      <th>19</th>\n",
       "      <td>2022-06-03</td>\n",
       "      <td>BER</td>\n",
       "      <td>PMI</td>\n",
       "      <td>109</td>\n",
       "      <td>FR</td>\n",
       "    </tr>\n",
       "    <tr>\n",
       "      <th>20</th>\n",
       "      <td>2022-06-06</td>\n",
       "      <td>BER</td>\n",
       "      <td>PMI</td>\n",
       "      <td>54</td>\n",
       "      <td>FR</td>\n",
       "    </tr>\n",
       "    <tr>\n",
       "      <th>21</th>\n",
       "      <td>2022-06-07</td>\n",
       "      <td>BER</td>\n",
       "      <td>PMI</td>\n",
       "      <td>146</td>\n",
       "      <td>FR</td>\n",
       "    </tr>\n",
       "    <tr>\n",
       "      <th>22</th>\n",
       "      <td>2022-06-09</td>\n",
       "      <td>BER</td>\n",
       "      <td>PMI</td>\n",
       "      <td>95</td>\n",
       "      <td>U2</td>\n",
       "    </tr>\n",
       "    <tr>\n",
       "      <th>23</th>\n",
       "      <td>2022-06-10</td>\n",
       "      <td>BER</td>\n",
       "      <td>PMI</td>\n",
       "      <td>83</td>\n",
       "      <td>FR</td>\n",
       "    </tr>\n",
       "    <tr>\n",
       "      <th>24</th>\n",
       "      <td>2022-06-11</td>\n",
       "      <td>BER</td>\n",
       "      <td>PMI</td>\n",
       "      <td>95</td>\n",
       "      <td>FR</td>\n",
       "    </tr>\n",
       "    <tr>\n",
       "      <th>25</th>\n",
       "      <td>2022-06-13</td>\n",
       "      <td>BER</td>\n",
       "      <td>PMI</td>\n",
       "      <td>47</td>\n",
       "      <td>FR</td>\n",
       "    </tr>\n",
       "    <tr>\n",
       "      <th>26</th>\n",
       "      <td>2022-06-23</td>\n",
       "      <td>BER</td>\n",
       "      <td>PMI</td>\n",
       "      <td>148</td>\n",
       "      <td>FR</td>\n",
       "    </tr>\n",
       "    <tr>\n",
       "      <th>27</th>\n",
       "      <td>2022-06-30</td>\n",
       "      <td>BER</td>\n",
       "      <td>PMI</td>\n",
       "      <td>119</td>\n",
       "      <td>FR</td>\n",
       "    </tr>\n",
       "    <tr>\n",
       "      <th>28</th>\n",
       "      <td>2022-07-01</td>\n",
       "      <td>BER</td>\n",
       "      <td>PMI</td>\n",
       "      <td>111</td>\n",
       "      <td>U2</td>\n",
       "    </tr>\n",
       "    <tr>\n",
       "      <th>29</th>\n",
       "      <td>2022-07-02</td>\n",
       "      <td>BER</td>\n",
       "      <td>PMI</td>\n",
       "      <td>68</td>\n",
       "      <td>FR</td>\n",
       "    </tr>\n",
       "    <tr>\n",
       "      <th>30</th>\n",
       "      <td>2022-07-05</td>\n",
       "      <td>BER</td>\n",
       "      <td>PMI</td>\n",
       "      <td>88</td>\n",
       "      <td>FR</td>\n",
       "    </tr>\n",
       "    <tr>\n",
       "      <th>31</th>\n",
       "      <td>2022-07-12</td>\n",
       "      <td>BER</td>\n",
       "      <td>PMI</td>\n",
       "      <td>115</td>\n",
       "      <td>AL</td>\n",
       "    </tr>\n",
       "    <tr>\n",
       "      <th>32</th>\n",
       "      <td>2022-07-21</td>\n",
       "      <td>BER</td>\n",
       "      <td>PMI</td>\n",
       "      <td>128</td>\n",
       "      <td>FR</td>\n",
       "    </tr>\n",
       "    <tr>\n",
       "      <th>33</th>\n",
       "      <td>2022-07-22</td>\n",
       "      <td>BER</td>\n",
       "      <td>PMI</td>\n",
       "      <td>116</td>\n",
       "      <td>U2</td>\n",
       "    </tr>\n",
       "    <tr>\n",
       "      <th>34</th>\n",
       "      <td>2022-07-29</td>\n",
       "      <td>BER</td>\n",
       "      <td>PMI</td>\n",
       "      <td>155</td>\n",
       "      <td>FR</td>\n",
       "    </tr>\n",
       "    <tr>\n",
       "      <th>35</th>\n",
       "      <td>2022-08-14</td>\n",
       "      <td>BER</td>\n",
       "      <td>PMI</td>\n",
       "      <td>93</td>\n",
       "      <td>FR</td>\n",
       "    </tr>\n",
       "    <tr>\n",
       "      <th>36</th>\n",
       "      <td>2022-09-03</td>\n",
       "      <td>BER</td>\n",
       "      <td>PMI</td>\n",
       "      <td>68</td>\n",
       "      <td>FR</td>\n",
       "    </tr>\n",
       "    <tr>\n",
       "      <th>37</th>\n",
       "      <td>2022-09-06</td>\n",
       "      <td>BER</td>\n",
       "      <td>PMI</td>\n",
       "      <td>54</td>\n",
       "      <td>FR</td>\n",
       "    </tr>\n",
       "    <tr>\n",
       "      <th>38</th>\n",
       "      <td>2022-09-11</td>\n",
       "      <td>BER</td>\n",
       "      <td>PMI</td>\n",
       "      <td>54</td>\n",
       "      <td>FR</td>\n",
       "    </tr>\n",
       "  </tbody>\n",
       "</table>\n",
       "</div>"
      ],
      "text/plain": [
       "          date origin destination  price airline\n",
       "0   2022-05-01    BER         PMI     86      EW\n",
       "1   2022-05-02    BER         PMI     95      U2\n",
       "2   2022-05-03    BER         PMI     39      FR\n",
       "3   2022-05-04    BER         PMI     43      FR\n",
       "4   2022-05-05    BER         PMI     82      FR\n",
       "5   2022-05-06    BER         PMI     84      FR\n",
       "6   2022-05-07    BER         PMI     45      FR\n",
       "7   2022-05-08    BER         PMI     90      FR\n",
       "8   2022-05-09    BER         PMI     38      FR\n",
       "9   2022-05-10    BER         PMI     49      FR\n",
       "10  2022-05-11    BER         PMI    149      FR\n",
       "11  2022-05-13    BER         PMI    118      FR\n",
       "12  2022-05-16    BER         PMI     47      FR\n",
       "13  2022-05-18    BER         PMI     50      FR\n",
       "14  2022-05-25    BER         PMI    161      AL\n",
       "15  2022-05-26    BER         PMI     93      AL\n",
       "16  2022-05-27    BER         PMI    155      FR\n",
       "17  2022-05-28    BER         PMI     91      FR\n",
       "18  2022-06-02    BER         PMI    144      FR\n",
       "19  2022-06-03    BER         PMI    109      FR\n",
       "20  2022-06-06    BER         PMI     54      FR\n",
       "21  2022-06-07    BER         PMI    146      FR\n",
       "22  2022-06-09    BER         PMI     95      U2\n",
       "23  2022-06-10    BER         PMI     83      FR\n",
       "24  2022-06-11    BER         PMI     95      FR\n",
       "25  2022-06-13    BER         PMI     47      FR\n",
       "26  2022-06-23    BER         PMI    148      FR\n",
       "27  2022-06-30    BER         PMI    119      FR\n",
       "28  2022-07-01    BER         PMI    111      U2\n",
       "29  2022-07-02    BER         PMI     68      FR\n",
       "30  2022-07-05    BER         PMI     88      FR\n",
       "31  2022-07-12    BER         PMI    115      AL\n",
       "32  2022-07-21    BER         PMI    128      FR\n",
       "33  2022-07-22    BER         PMI    116      U2\n",
       "34  2022-07-29    BER         PMI    155      FR\n",
       "35  2022-08-14    BER         PMI     93      FR\n",
       "36  2022-09-03    BER         PMI     68      FR\n",
       "37  2022-09-06    BER         PMI     54      FR\n",
       "38  2022-09-11    BER         PMI     54      FR"
      ]
     },
     "execution_count": 168,
     "metadata": {},
     "output_type": "execute_result"
    }
   ],
   "source": [
    "flights"
   ]
  },
  {
   "cell_type": "code",
   "execution_count": null,
   "id": "3635a114-b0f4-47f6-a0c3-15a2753aac7c",
   "metadata": {},
   "outputs": [],
   "source": []
  }
 ],
 "metadata": {
  "kernelspec": {
   "display_name": "Python 3 (ipykernel)",
   "language": "python",
   "name": "python3"
  },
  "language_info": {
   "codemirror_mode": {
    "name": "ipython",
    "version": 3
   },
   "file_extension": ".py",
   "mimetype": "text/x-python",
   "name": "python",
   "nbconvert_exporter": "python",
   "pygments_lexer": "ipython3",
   "version": "3.8.12"
  }
 },
 "nbformat": 4,
 "nbformat_minor": 5
}
